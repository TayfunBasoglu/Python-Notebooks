{
 "cells": [
  {
   "cell_type": "code",
   "execution_count": 1,
   "metadata": {},
   "outputs": [],
   "source": [
    "import warnings\n",
    "warnings.filterwarnings(\"ignore\")"
   ]
  },
  {
   "cell_type": "code",
   "execution_count": 20,
   "metadata": {},
   "outputs": [],
   "source": [
    "import pandas as pd\n",
    "pd.set_option('display.max_columns', None)\n",
    "\n",
    "import numpy as np\n",
    "import seaborn as sns\n",
    "import matplotlib.pyplot as plt\n",
    "\n",
    "from sklearn.model_selection import RandomizedSearchCV\n",
    "from sklearn.model_selection import KFold\n",
    "from sklearn.model_selection import train_test_split\n",
    "from sklearn.metrics import accuracy_score\n",
    "import scipy.stats as stats\n",
    "\n",
    "\n",
    "from sklearn.linear_model import LogisticRegression\n",
    "from sklearn.neighbors import KNeighborsClassifier\n",
    "from sklearn.tree import DecisionTreeClassifier\n",
    "from sklearn.svm import SVC\n",
    "from sklearn.ensemble import AdaBoostClassifier\n",
    "from sklearn.tree import ExtraTreeClassifier\n",
    "from sklearn.linear_model import SGDClassifier\n",
    "from sklearn.linear_model import RidgeClassifier\n",
    "import lightgbm\n",
    "from xgboost import XGBClassifier\n",
    "from sklearn.discriminant_analysis import QuadraticDiscriminantAnalysis\n",
    "from sklearn.ensemble import RandomForestClassifier"
   ]
  },
  {
   "cell_type": "code",
   "execution_count": 4,
   "metadata": {},
   "outputs": [],
   "source": [
    "#X_train and y_train prepare\n",
    "data = pd.read_csv(\"train.csv\")[:500]\n",
    "X_train = data.drop([\"id\",\"target\",\"f_27\"],axis=1)\n",
    "y_train = data[\"target\"]\n",
    "X_train, X_test, y_train, y_test = train_test_split(X_train, y_train, test_size=0.33, random_state=42,  shuffle=True)"
   ]
  },
  {
   "cell_type": "code",
   "execution_count": 5,
   "metadata": {},
   "outputs": [],
   "source": [
    "# models compare table\n",
    "models = pd.DataFrame(columns=[\"model\",\"parameters\",\"model base score\",\"prediction score\"])"
   ]
  },
  {
   "cell_type": "code",
   "execution_count": 6,
   "metadata": {},
   "outputs": [],
   "source": [
    "# 1 include, 0 exclude\n",
    "Logistic_Regression = 1\n",
    "KNeighbors_Classifier = 1\n",
    "DecisionTree_Classifier = 1\n",
    "Support_Vector_Machines_SVC = 1\n",
    "AdaBoost_Classifier = 1\n",
    "ExtraTree_Classifier = 1\n",
    "SGD_Classifier = 1\n",
    "Ridge_Classifier = 1\n",
    "light_gbm = 1\n",
    "XGB_Classifier = 1\n",
    "QuadraticDiscriminant_Analysis = 1\n",
    "RandomForest_Classifier = 1"
   ]
  },
  {
   "cell_type": "code",
   "execution_count": 7,
   "metadata": {},
   "outputs": [
    {
     "name": "stdout",
     "output_type": "stream",
     "text": [
      "Logistic Regression ...\n",
      "Fitting 5 folds for each of 10 candidates, totalling 50 fits\n"
     ]
    }
   ],
   "source": [
    "# Logistic Regression\n",
    "if Logistic_Regression == 1:\n",
    "\n",
    "    # Simple\n",
    "    model_simple = LogisticRegression(max_iter=2000).fit(X_train, y_train)\n",
    "    predicts = model_simple.predict(X_test)\n",
    "    predict_as = accuracy_score(y_test, predicts)\n",
    "    models.loc[len(models)+1] = ['LogisticRegressionSimple', \"Default\", model_simple.score(X_train, y_train),predict_as]\n",
    "\n",
    "    # Random Search\n",
    "    cv_test= KFold(n_splits=5)\n",
    "    parameters = {\n",
    "                \"C\" : [0.0001, 0.001, 0.01, 0, 0.1, 1.0, 10, 100, 1000],\n",
    "                \"class_weight\" : [\"balanced\", None],\n",
    "                \"solver\" : [\"newton-cg\",\"lbfgs\", \"liblinear\", \"sag\", \"saga\"],\n",
    "                \"fit_intercept\" : [True, False],\n",
    "                \"dual\" : [True, False],\n",
    "                \"multi_class\" : [\"auto\", \"ovr\", \"multinomial\"],\n",
    "                \"l1_ratio\" : [0.0, 0.001, 0.0001, 0.1, 0.5, 0.7, 0.9, 0.95, 0.99, 1.0],\n",
    "                \"warm_start\" : [True, False],\n",
    "                 }\n",
    "\n",
    "    random_search = RandomizedSearchCV(LogisticRegression(max_iter = 2000), parameters, cv=cv_test, n_jobs=-1, random_state=42, verbose=True) \n",
    "    random_search.fit(X_train, y_train)\n",
    "    predicts = random_search.best_estimator_.predict(X_test)\n",
    "    predict_as = accuracy_score(y_test, predicts)\n",
    "    models.loc[len(models)+1] = ['LogisticRegressionRS', random_search.best_params_, random_search.score(X_train, y_train),predict_as]"
   ]
  },
  {
   "cell_type": "code",
   "execution_count": 8,
   "metadata": {},
   "outputs": [
    {
     "name": "stdout",
     "output_type": "stream",
     "text": [
      "KNeighbors Classifier ...\n",
      "Fitting 5 folds for each of 10 candidates, totalling 50 fits\n"
     ]
    }
   ],
   "source": [
    "# KNeighbors Classifier\n",
    "if KNeighbors_Classifier == 1:\n",
    "\n",
    "    # Simple\n",
    "    model_simple = KNeighborsClassifier().fit(X_train, y_train)\n",
    "    predicts = model_simple.predict(X_test)\n",
    "    predict_as = accuracy_score(y_test, predicts)\n",
    "    models.loc[len(models)+1] = ['KNeighborsClassifierSimple', \"Default\", model_simple.score(X_train, y_train),predict_as]\n",
    "\n",
    "    # Random Search\n",
    "    cv_test= KFold(n_splits=5)\n",
    "    parameters = {\n",
    "                \"weights\" : [\"uniform\",\"distance\"],\n",
    "                \"n_neighbors\" : list(range(1,int(np.sqrt(len(y_train))),2)),\n",
    "                \"algorithm\" : [\"auto\", \"ball_tree\", \"kd_tree\", \"brute\"]\n",
    "                }\n",
    "\n",
    "    random_search = RandomizedSearchCV(KNeighborsClassifier(), parameters, cv=cv_test, n_jobs=-1, random_state=42, verbose=True) \n",
    "    random_search.fit(X_train, y_train)\n",
    "    predicts = random_search.best_estimator_.predict(X_test)\n",
    "    predict_as = accuracy_score(y_test, predicts)\n",
    "    models.loc[len(models)+1] = ['KNeighborsClassifierRS', random_search.best_params_, random_search.score(X_train, y_train),predict_as]"
   ]
  },
  {
   "cell_type": "code",
   "execution_count": 9,
   "metadata": {},
   "outputs": [
    {
     "name": "stdout",
     "output_type": "stream",
     "text": [
      "DecisionTreeClassifier ...\n",
      "Fitting 5 folds for each of 10 candidates, totalling 50 fits\n"
     ]
    }
   ],
   "source": [
    "# DecisionTreeClassifier\n",
    "if DecisionTree_Classifier == 1:\n",
    "\n",
    "    # Simple\n",
    "    model_simple = DecisionTreeClassifier().fit(X_train, y_train)\n",
    "    predicts = model_simple.predict(X_test)\n",
    "    predict_as = accuracy_score(y_test, predicts)\n",
    "    models.loc[len(models)+1] = ['DecisionTreeClassifierSimple', \"Default\", model_simple.score(X_train, y_train),predict_as]\n",
    "\n",
    "    # Random Search\n",
    "    cv_test= KFold(n_splits=5)\n",
    "    parameters = {\n",
    "                \"criterion\" : [\"gini\", \"entropy\", \"log_loss\"],\n",
    "                \"splitter\" : [\"best\", \"random\"],\n",
    "                \"max_features\" : [\"auto\", \"sqrt\", \"log2\", \"None\"],\n",
    "                \"max_depth\": list(np.arange(1, 1000)),\n",
    "                \"min_samples_split\" : list(np.arange(1, 100)),\n",
    "                \"ccp_alpha\": [0.0, 0.001, 0.0001, 0.1, 0.5, 0.7, 0.9, 0.95, 0.99, 1.0]\n",
    "                }\n",
    "\n",
    "    random_search = RandomizedSearchCV(DecisionTreeClassifier(), parameters, cv=cv_test, n_jobs=-1, random_state=42, verbose=True) \n",
    "    random_search.fit(X_train, y_train)\n",
    "    predicts = random_search.best_estimator_.predict(X_test)\n",
    "    predict_as = accuracy_score(y_test, predicts)\n",
    "    models.loc[len(models)+1] = ['DecisionTreeClassifierRS', random_search.best_params_, random_search.score(X_train, y_train),predict_as]"
   ]
  },
  {
   "cell_type": "code",
   "execution_count": 10,
   "metadata": {},
   "outputs": [
    {
     "name": "stdout",
     "output_type": "stream",
     "text": [
      "SVC ...\n",
      "Fitting 5 folds for each of 10 candidates, totalling 50 fits\n"
     ]
    }
   ],
   "source": [
    "# Support_Vector_Machines\n",
    "if Support_Vector_Machines_SVC == 1:\n",
    "\n",
    "    # Simple\n",
    "    model_simple = SVC().fit(X_train, y_train)\n",
    "    predicts = model_simple.predict(X_test)\n",
    "    predict_as = accuracy_score(y_test, predicts)\n",
    "    models.loc[len(models)+1] = ['SVCSimple', \"Default\", model_simple.score(X_train, y_train),predict_as]\n",
    "\n",
    "    # Random Search\n",
    "    cv_test= KFold(n_splits=5)\n",
    "    parameters = {\n",
    "                \"shrinking\" : [True, False],\n",
    "                \"gamma\" : [\"scale\", \"auto\"],\n",
    "                'C': [0.0001, 0.001, 0.01, 0, 0.1, 1.0, 10, 100, 1000],\n",
    "                \"cache_size\" : [2000],\n",
    "                \"decision_function_shape\" : [\"ovo\",\"ovr\"]\n",
    "                }\n",
    "\n",
    "    random_search = RandomizedSearchCV(SVC(), parameters, cv=cv_test, n_jobs=-1, random_state=42, verbose=True) \n",
    "    random_search.fit(X_train, y_train)\n",
    "    predicts = random_search.best_estimator_.predict(X_test)\n",
    "    predict_as = accuracy_score(y_test, predicts)\n",
    "    models.loc[len(models)+1] = ['SVCRS', random_search.best_params_, random_search.score(X_train, y_train),predict_as]"
   ]
  },
  {
   "cell_type": "code",
   "execution_count": 11,
   "metadata": {},
   "outputs": [
    {
     "name": "stdout",
     "output_type": "stream",
     "text": [
      "AdaBoostClassifier ...\n",
      "Fitting 5 folds for each of 10 candidates, totalling 50 fits\n"
     ]
    }
   ],
   "source": [
    "# AdaBoostClassifier\n",
    "if AdaBoost_Classifier == 1:\n",
    "\n",
    "    # Simple\n",
    "    model_simple = AdaBoostClassifier().fit(X_train, y_train)\n",
    "    predicts = model_simple.predict(X_test)\n",
    "    predict_as = accuracy_score(y_test, predicts)\n",
    "    models.loc[len(models)+1] = ['AdaBoostClassifierSimple', \"Default\", model_simple.score(X_train, y_train),predict_as]\n",
    "\n",
    "    # Random Search\n",
    "    cv_test= KFold(n_splits=5)\n",
    "    parameters = {\n",
    "                \"algorithm\" : [\"SAMME\",\"SAMME.R\"],\n",
    "                \"learning_rate\" : [0.0, 0.001, 0.0001, 0.1, 0.5, 0.7, 0.9, 0.95, 0.99, 1.0],\n",
    "                \"n_estimators\" : list(np.arange(1, 1000, 10))\n",
    "                }\n",
    "\n",
    "    random_search = RandomizedSearchCV(AdaBoostClassifier(), parameters, cv=cv_test, n_jobs=-1, random_state=42, verbose=True) \n",
    "    random_search.fit(X_train, y_train)\n",
    "    predicts = random_search.best_estimator_.predict(X_test)\n",
    "    predict_as = accuracy_score(y_test, predicts)\n",
    "    models.loc[len(models)+1] = ['AdaBoostClassifierRS', random_search.best_params_, random_search.score(X_train, y_train),predict_as]"
   ]
  },
  {
   "cell_type": "code",
   "execution_count": 12,
   "metadata": {},
   "outputs": [
    {
     "name": "stdout",
     "output_type": "stream",
     "text": [
      "ExtraTree Classifier ...\n",
      "Fitting 5 folds for each of 10 candidates, totalling 50 fits\n"
     ]
    }
   ],
   "source": [
    "# ExtraTree Classifier\n",
    "if ExtraTree_Classifier == 1:\n",
    "\n",
    "    # Simple\n",
    "    model_simple = ExtraTreeClassifier().fit(X_train, y_train)\n",
    "    predicts = model_simple.predict(X_test)\n",
    "    predict_as = accuracy_score(y_test, predicts)\n",
    "    models.loc[len(models)+1] = ['ExtraTreeClassifierSimple', \"Default\", model_simple.score(X_train, y_train),predict_as]\n",
    "\n",
    "    # Random Search\n",
    "    cv_test= KFold(n_splits=5)\n",
    "    parameters = {\n",
    "                \"criterion\" :[\"gini\", \"entropy\", \"log_loss\"],\n",
    "                \"splitter\" : [\"random\", \"best\"],\n",
    "                \"max_features\" : [\"auto\", \"sqrt\", \"log2\"],\n",
    "                \"max_depth\" : list(np.arange(1, 50, 1)),\n",
    "                \"min_samples_split\" : list(np.arange(1, 50, 1)),\n",
    "                \"min_samples_leaf\" :  list(np.arange(1, 50, 1)),\n",
    "                }\n",
    "\n",
    "    random_search = RandomizedSearchCV(ExtraTreeClassifier(), parameters, cv=cv_test, n_jobs=-1, random_state=42, verbose=True)\n",
    "    random_search.fit(X_train, y_train)\n",
    "    predicts = random_search.best_estimator_.predict(X_test)\n",
    "    predict_as = accuracy_score(y_test, predicts)\n",
    "    models.loc[len(models)+1] = ['ExtraTreeClassifierRs', random_search.best_params_, random_search.score(X_train, y_train),predict_as]"
   ]
  },
  {
   "cell_type": "code",
   "execution_count": 13,
   "metadata": {},
   "outputs": [
    {
     "name": "stdout",
     "output_type": "stream",
     "text": [
      "SGDClassifier ...\n",
      "Fitting 5 folds for each of 10 candidates, totalling 50 fits\n"
     ]
    }
   ],
   "source": [
    "# SGDClassifier\n",
    "if SGD_Classifier == 1:\n",
    "\n",
    "    # Simple\n",
    "    model_simple = SGDClassifier().fit(X_train, y_train)\n",
    "    predicts = model_simple.predict(X_test)\n",
    "    predict_as = accuracy_score(y_test, predicts)\n",
    "    models.loc[len(models)+1] = ['SGDClassifierSimple', \"Default\", model_simple.score(X_train, y_train),predict_as]\n",
    "\n",
    "    # Random Search\n",
    "    cv_test= KFold(n_splits=5)\n",
    "    parameters = {\n",
    "                \"alpha\": [0.0, 0.001, 0.0001, 0.1, 0.5, 0.7, 0.9, 0.95, 0.99, 1.0],\n",
    "                \"penalty\" : [\"l2\", \"l1\", \"elasticnet\"],\n",
    "                \"l1_ratio\" : stats.uniform(0, 1),\n",
    "                \"fit_intercept\" : [True, False],\n",
    "                \"shuffle\" : [True, False],\n",
    "                }\n",
    "\n",
    "    random_search = RandomizedSearchCV(SGDClassifier(), parameters, cv=cv_test, n_jobs=-1, random_state=42, verbose=True)\n",
    "    random_search.fit(X_train, y_train)\n",
    "    predicts = random_search.best_estimator_.predict(X_test)\n",
    "    predict_as = accuracy_score(y_test, predicts)\n",
    "    models.loc[len(models)+1] = ['SGDClassifierRS', random_search.best_params_, random_search.score(X_train, y_train),predict_as]"
   ]
  },
  {
   "cell_type": "code",
   "execution_count": 14,
   "metadata": {},
   "outputs": [
    {
     "name": "stdout",
     "output_type": "stream",
     "text": [
      "RidgeClassifier ...\n",
      "Fitting 5 folds for each of 10 candidates, totalling 50 fits\n"
     ]
    }
   ],
   "source": [
    "# RidgeClassifier\n",
    "if Ridge_Classifier == 1:\n",
    "\n",
    "    # Simple\n",
    "    model_simple = RidgeClassifier().fit(X_train, y_train)\n",
    "    predicts = model_simple.predict(X_test)\n",
    "    predict_as = accuracy_score(y_test, predicts)\n",
    "    models.loc[len(models)+1] = ['RidgeClassifierSimple', \"Default\", model_simple.score(X_train, y_train),predict_as]\n",
    "\n",
    "    # Random Search\n",
    "    cv_test= KFold(n_splits=5)\n",
    "    parameters = {\n",
    "                \"alpha\": [0.0, 0.001, 0.0001, 0.1, 0.5, 0.7, 0.9, 0.95, 0.99, 1.0],\n",
    "                \"fit_intercept\" : [True, False],\n",
    "                \"copy_X\":[False,True],\n",
    "                \"solver\" : [\"auto\",\"svd\",\"cholesky\",\"lsqr\",\"sparse_cg\",\"sag\",\"saga\",\"lbfgs\"],\n",
    "                \"positive\" : [True, False]\n",
    "                }\n",
    "\n",
    "    random_search = RandomizedSearchCV(RidgeClassifier(), parameters, cv=cv_test, n_jobs=-1, random_state=42, verbose=True) \n",
    "    random_search.fit(X_train, y_train)\n",
    "    predicts = random_search.best_estimator_.predict(X_test)\n",
    "    predict_as = accuracy_score(y_test, predicts)\n",
    "    models.loc[len(models)+1] = ['RidgeClassifierRS', random_search.best_params_, random_search.score(X_train, y_train),predict_as]"
   ]
  },
  {
   "cell_type": "code",
   "execution_count": 15,
   "metadata": {},
   "outputs": [
    {
     "name": "stdout",
     "output_type": "stream",
     "text": [
      "lightgbm ...\n",
      "Fitting 5 folds for each of 10 candidates, totalling 50 fits\n"
     ]
    }
   ],
   "source": [
    "# lightgbm\n",
    "if light_gbm == 1:\n",
    "\n",
    "    # Simple\n",
    "    model_simple = lightgbm.LGBMClassifier().fit(X_train, y_train)\n",
    "    predicts = model_simple.predict(X_test)\n",
    "    predict_as = accuracy_score(y_test, predicts)\n",
    "    models.loc[len(models)+1] = ['lightgbmSimple', \"Default\", model_simple.score(X_train, y_train),predict_as]\n",
    "\n",
    "    # Random Search\n",
    "    cv_test= KFold(n_splits=5)\n",
    "    parameters = {\n",
    "                \"learning_rate\" : [0.0, 0.001, 0.0001, 0.1, 0.5, 0.7, 0.9, 0.95, 0.99, 1.0],\n",
    "                \"n_estimators\" : list(np.arange(1, 300, 1)),\n",
    "                \"num_leaves\": [6,8,12,16]\n",
    "                }\n",
    "\n",
    "    random_search = RandomizedSearchCV(lightgbm.LGBMClassifier(), parameters, cv=cv_test, n_jobs=-1, random_state=42, verbose=True) \n",
    "    random_search.fit(X_train, y_train)\n",
    "    predicts = random_search.best_estimator_.predict(X_test)\n",
    "    predict_as = accuracy_score(y_test, predicts)\n",
    "    models.loc[len(models)+1] = ['lightgbmRS', random_search.best_params_, random_search.score(X_train, y_train),predict_as]"
   ]
  },
  {
   "cell_type": "code",
   "execution_count": 16,
   "metadata": {},
   "outputs": [
    {
     "name": "stdout",
     "output_type": "stream",
     "text": [
      "XGBClassifier ...\n",
      "Fitting 5 folds for each of 10 candidates, totalling 50 fits\n"
     ]
    }
   ],
   "source": [
    "# XGBClassifier\n",
    "if XGB_Classifier == 1:\n",
    "\n",
    "    # Simple\n",
    "    model_simple = XGBClassifier().fit(X_train, y_train)\n",
    "    predicts = model_simple.predict(X_test)\n",
    "    predict_as = accuracy_score(y_test, predicts)\n",
    "    models.loc[len(models)+1] = ['XGBClassifierSimple', \"Default\", model_simple.score(X_train, y_train),predict_as]\n",
    "\n",
    "    # Random Search\n",
    "    cv_test= KFold(n_splits=5)\n",
    "    parameters = {\n",
    "            'gamma': [0,0.1,0.2,0.4,0.8,1.6,3.2,6.4,12.8,25.6,51.2,102.4, 200],\n",
    "            'learning_rate': [0.01, 0.03, 0.06, 0.1, 0.15, 0.2, 0.25, 0.300000012, 0.4, 0.5, 0.6, 0.7],\n",
    "            'max_depth': [5,6,7,8,9,10,11,12,13,14],\n",
    "            'n_estimators': [50,65,80,100,115,130,150],\n",
    "            'reg_alpha': [0,0.1,0.2,0.4,0.8,1.6,3.2,6.4,12.8,25.6,51.2,102.4,200],\n",
    "            'reg_lambda': [0,0.1,0.2,0.4,0.8,1.6,3.2,6.4,12.8,25.6,51.2,102.4,200]}\n",
    "\n",
    "    random_search = RandomizedSearchCV(XGBClassifier(), parameters, cv=cv_test, n_jobs=-1, random_state=42, verbose=True) \n",
    "    random_search.fit(X_train, y_train)\n",
    "    predicts = random_search.best_estimator_.predict(X_test)\n",
    "    predict_as = accuracy_score(y_test, predicts)\n",
    "    models.loc[len(models)+1] = ['XGBClassifierRS', random_search.best_params_, random_search.score(X_train, y_train),predict_as]"
   ]
  },
  {
   "cell_type": "code",
   "execution_count": 17,
   "metadata": {},
   "outputs": [
    {
     "name": "stdout",
     "output_type": "stream",
     "text": [
      "QuadraticDiscriminantAnalysis ...\n",
      "Fitting 5 folds for each of 10 candidates, totalling 50 fits\n"
     ]
    }
   ],
   "source": [
    "# QuadraticDiscriminantAnalysis\n",
    "if QuadraticDiscriminant_Analysis == 1:\n",
    "\n",
    "    # Simple\n",
    "    model_simple = QuadraticDiscriminantAnalysis().fit(X_train, y_train)\n",
    "    predicts = model_simple.predict(X_test)\n",
    "    predict_as = accuracy_score(y_test, predicts)\n",
    "    models.loc[len(models)+1] = ['QuadraticDiscriminantAnalysisSimple', \"Default\", model_simple.score(X_train, y_train),predict_as]\n",
    "\n",
    "    # Random Search\n",
    "    cv_test= KFold(n_splits=5)\n",
    "    parameters = {\n",
    "                \"reg_param\" : [0.0, 0.001, 0.0001, 0.1, 0.5, 0.7, 0.9, 0.95, 0.99, 1.0]\n",
    "            }\n",
    "\n",
    "    random_search = RandomizedSearchCV(QuadraticDiscriminantAnalysis(), parameters, cv=cv_test, n_jobs=-1, random_state=42, verbose=True) \n",
    "    random_search.fit(X_train, y_train)\n",
    "    predicts = random_search.best_estimator_.predict(X_test)\n",
    "    predict_as = accuracy_score(y_test, predicts)\n",
    "    models.loc[len(models)+1] = ['QuadraticDiscriminantAnalysisRS', random_search.best_params_, random_search.score(X_train, y_train),predict_as]"
   ]
  },
  {
   "cell_type": "code",
   "execution_count": 18,
   "metadata": {},
   "outputs": [
    {
     "name": "stdout",
     "output_type": "stream",
     "text": [
      "RandomForest_Classifier ...\n",
      "Fitting 5 folds for each of 10 candidates, totalling 50 fits\n"
     ]
    }
   ],
   "source": [
    "# RandomForest_Classifier\n",
    "if RandomForest_Classifier == 1:\n",
    "\n",
    "    # Simple\n",
    "    model_simple = RandomForestClassifier().fit(X_train, y_train)\n",
    "    predicts = model_simple.predict(X_test)\n",
    "    predict_as = accuracy_score(y_test, predicts)\n",
    "    models.loc[len(models)+1] = ['RandomForestClassifierSimple', \"Default\", model_simple.score(X_train, y_train),predict_as]\n",
    "\n",
    "    # Random Search\n",
    "    cv_test= KFold(n_splits=5)\n",
    "    parameters = {\n",
    "                \"n_estimators\" : list(np.arange(1, 500, 1)),\n",
    "                \"criterion\" : [\"gini\",\"entropy\",\"log_loss\"],\n",
    "                \"max_depth\" : list(np.arange(1, 50, 1)),\n",
    "                \"max_features\" : [\"sqrt\",\"log2\",\"None\"]\n",
    "            }\n",
    "\n",
    "    random_search = RandomizedSearchCV(RandomForestClassifier(), parameters, cv=cv_test, n_jobs=-1, random_state=42, verbose=True) \n",
    "    random_search.fit(X_train, y_train)\n",
    "    predicts = random_search.best_estimator_.predict(X_test)\n",
    "    predict_as = accuracy_score(y_test, predicts)\n",
    "    models.loc[len(models)+1] = ['RandomForestClassifierRS', random_search.best_params_, random_search.score(X_train, y_train),predict_as]"
   ]
  },
  {
   "cell_type": "code",
   "execution_count": 21,
   "metadata": {},
   "outputs": [
    {
     "data": {
      "text/html": [
       "<div>\n",
       "<style scoped>\n",
       "    .dataframe tbody tr th:only-of-type {\n",
       "        vertical-align: middle;\n",
       "    }\n",
       "\n",
       "    .dataframe tbody tr th {\n",
       "        vertical-align: top;\n",
       "    }\n",
       "\n",
       "    .dataframe thead th {\n",
       "        text-align: right;\n",
       "    }\n",
       "</style>\n",
       "<table border=\"1\" class=\"dataframe\">\n",
       "  <thead>\n",
       "    <tr style=\"text-align: right;\">\n",
       "      <th></th>\n",
       "      <th>model</th>\n",
       "      <th>parameters</th>\n",
       "      <th>model base score</th>\n",
       "      <th>prediction score</th>\n",
       "    </tr>\n",
       "  </thead>\n",
       "  <tbody>\n",
       "    <tr>\n",
       "      <th>22</th>\n",
       "      <td>QuadraticDiscriminantAnalysisRS</td>\n",
       "      <td>{'reg_param': 0.0}</td>\n",
       "      <td>0.913433</td>\n",
       "      <td>0.666667</td>\n",
       "    </tr>\n",
       "    <tr>\n",
       "      <th>21</th>\n",
       "      <td>QuadraticDiscriminantAnalysisSimple</td>\n",
       "      <td>Default</td>\n",
       "      <td>0.913433</td>\n",
       "      <td>0.666667</td>\n",
       "    </tr>\n",
       "    <tr>\n",
       "      <th>23</th>\n",
       "      <td>RandomForestClassifierSimple</td>\n",
       "      <td>Default</td>\n",
       "      <td>1.000000</td>\n",
       "      <td>0.624242</td>\n",
       "    </tr>\n",
       "    <tr>\n",
       "      <th>17</th>\n",
       "      <td>lightgbmSimple</td>\n",
       "      <td>Default</td>\n",
       "      <td>1.000000</td>\n",
       "      <td>0.606061</td>\n",
       "    </tr>\n",
       "    <tr>\n",
       "      <th>19</th>\n",
       "      <td>XGBClassifierSimple</td>\n",
       "      <td>Default</td>\n",
       "      <td>1.000000</td>\n",
       "      <td>0.600000</td>\n",
       "    </tr>\n",
       "    <tr>\n",
       "      <th>24</th>\n",
       "      <td>RandomForestClassifierRS</td>\n",
       "      <td>{'n_estimators': 120, 'max_features': 'sqrt', ...</td>\n",
       "      <td>1.000000</td>\n",
       "      <td>0.587879</td>\n",
       "    </tr>\n",
       "    <tr>\n",
       "      <th>18</th>\n",
       "      <td>lightgbmRS</td>\n",
       "      <td>{'num_leaves': 6, 'n_estimators': 131, 'learni...</td>\n",
       "      <td>1.000000</td>\n",
       "      <td>0.575758</td>\n",
       "    </tr>\n",
       "    <tr>\n",
       "      <th>16</th>\n",
       "      <td>RidgeClassifierRS</td>\n",
       "      <td>{'solver': 'lbfgs', 'positive': True, 'fit_int...</td>\n",
       "      <td>0.516418</td>\n",
       "      <td>0.569697</td>\n",
       "    </tr>\n",
       "    <tr>\n",
       "      <th>13</th>\n",
       "      <td>SGDClassifierSimple</td>\n",
       "      <td>Default</td>\n",
       "      <td>0.602985</td>\n",
       "      <td>0.557576</td>\n",
       "    </tr>\n",
       "    <tr>\n",
       "      <th>9</th>\n",
       "      <td>AdaBoostClassifierSimple</td>\n",
       "      <td>Default</td>\n",
       "      <td>0.892537</td>\n",
       "      <td>0.557576</td>\n",
       "    </tr>\n",
       "    <tr>\n",
       "      <th>20</th>\n",
       "      <td>XGBClassifierRS</td>\n",
       "      <td>{'reg_lambda': 51.2, 'reg_alpha': 6.4, 'n_esti...</td>\n",
       "      <td>0.925373</td>\n",
       "      <td>0.545455</td>\n",
       "    </tr>\n",
       "    <tr>\n",
       "      <th>10</th>\n",
       "      <td>AdaBoostClassifierRS</td>\n",
       "      <td>{'n_estimators': 381, 'learning_rate': 0.9, 'a...</td>\n",
       "      <td>1.000000</td>\n",
       "      <td>0.539394</td>\n",
       "    </tr>\n",
       "    <tr>\n",
       "      <th>14</th>\n",
       "      <td>SGDClassifierRS</td>\n",
       "      <td>{'alpha': 0.001, 'fit_intercept': False, 'l1_r...</td>\n",
       "      <td>0.605970</td>\n",
       "      <td>0.539394</td>\n",
       "    </tr>\n",
       "    <tr>\n",
       "      <th>5</th>\n",
       "      <td>DecisionTreeClassifierSimple</td>\n",
       "      <td>Default</td>\n",
       "      <td>1.000000</td>\n",
       "      <td>0.539394</td>\n",
       "    </tr>\n",
       "    <tr>\n",
       "      <th>2</th>\n",
       "      <td>LogisticRegressionRS</td>\n",
       "      <td>{'warm_start': False, 'solver': 'liblinear', '...</td>\n",
       "      <td>0.564179</td>\n",
       "      <td>0.527273</td>\n",
       "    </tr>\n",
       "    <tr>\n",
       "      <th>15</th>\n",
       "      <td>RidgeClassifierSimple</td>\n",
       "      <td>Default</td>\n",
       "      <td>0.647761</td>\n",
       "      <td>0.527273</td>\n",
       "    </tr>\n",
       "    <tr>\n",
       "      <th>1</th>\n",
       "      <td>LogisticRegressionSimple</td>\n",
       "      <td>Default</td>\n",
       "      <td>0.653731</td>\n",
       "      <td>0.527273</td>\n",
       "    </tr>\n",
       "    <tr>\n",
       "      <th>6</th>\n",
       "      <td>DecisionTreeClassifierRS</td>\n",
       "      <td>{'splitter': 'random', 'min_samples_split': 30...</td>\n",
       "      <td>0.653731</td>\n",
       "      <td>0.521212</td>\n",
       "    </tr>\n",
       "    <tr>\n",
       "      <th>12</th>\n",
       "      <td>ExtraTreeClassifierRs</td>\n",
       "      <td>{'splitter': 'random', 'min_samples_split': 24...</td>\n",
       "      <td>0.573134</td>\n",
       "      <td>0.509091</td>\n",
       "    </tr>\n",
       "    <tr>\n",
       "      <th>8</th>\n",
       "      <td>SVCRS</td>\n",
       "      <td>{'shrinking': True, 'gamma': 'auto', 'decision...</td>\n",
       "      <td>1.000000</td>\n",
       "      <td>0.484848</td>\n",
       "    </tr>\n",
       "    <tr>\n",
       "      <th>7</th>\n",
       "      <td>SVCSimple</td>\n",
       "      <td>Default</td>\n",
       "      <td>0.579104</td>\n",
       "      <td>0.484848</td>\n",
       "    </tr>\n",
       "    <tr>\n",
       "      <th>4</th>\n",
       "      <td>KNeighborsClassifierRS</td>\n",
       "      <td>{'weights': 'uniform', 'n_neighbors': 5, 'algo...</td>\n",
       "      <td>0.698507</td>\n",
       "      <td>0.478788</td>\n",
       "    </tr>\n",
       "    <tr>\n",
       "      <th>3</th>\n",
       "      <td>KNeighborsClassifierSimple</td>\n",
       "      <td>Default</td>\n",
       "      <td>0.698507</td>\n",
       "      <td>0.478788</td>\n",
       "    </tr>\n",
       "    <tr>\n",
       "      <th>11</th>\n",
       "      <td>ExtraTreeClassifierSimple</td>\n",
       "      <td>Default</td>\n",
       "      <td>1.000000</td>\n",
       "      <td>0.472727</td>\n",
       "    </tr>\n",
       "  </tbody>\n",
       "</table>\n",
       "</div>"
      ],
      "text/plain": [
       "                                  model  \\\n",
       "22      QuadraticDiscriminantAnalysisRS   \n",
       "21  QuadraticDiscriminantAnalysisSimple   \n",
       "23         RandomForestClassifierSimple   \n",
       "17                       lightgbmSimple   \n",
       "19                  XGBClassifierSimple   \n",
       "24             RandomForestClassifierRS   \n",
       "18                           lightgbmRS   \n",
       "16                    RidgeClassifierRS   \n",
       "13                  SGDClassifierSimple   \n",
       "9              AdaBoostClassifierSimple   \n",
       "20                      XGBClassifierRS   \n",
       "10                 AdaBoostClassifierRS   \n",
       "14                      SGDClassifierRS   \n",
       "5          DecisionTreeClassifierSimple   \n",
       "2                  LogisticRegressionRS   \n",
       "15                RidgeClassifierSimple   \n",
       "1              LogisticRegressionSimple   \n",
       "6              DecisionTreeClassifierRS   \n",
       "12                ExtraTreeClassifierRs   \n",
       "8                                 SVCRS   \n",
       "7                             SVCSimple   \n",
       "4                KNeighborsClassifierRS   \n",
       "3            KNeighborsClassifierSimple   \n",
       "11            ExtraTreeClassifierSimple   \n",
       "\n",
       "                                           parameters  model base score  \\\n",
       "22                                 {'reg_param': 0.0}          0.913433   \n",
       "21                                            Default          0.913433   \n",
       "23                                            Default          1.000000   \n",
       "17                                            Default          1.000000   \n",
       "19                                            Default          1.000000   \n",
       "24  {'n_estimators': 120, 'max_features': 'sqrt', ...          1.000000   \n",
       "18  {'num_leaves': 6, 'n_estimators': 131, 'learni...          1.000000   \n",
       "16  {'solver': 'lbfgs', 'positive': True, 'fit_int...          0.516418   \n",
       "13                                            Default          0.602985   \n",
       "9                                             Default          0.892537   \n",
       "20  {'reg_lambda': 51.2, 'reg_alpha': 6.4, 'n_esti...          0.925373   \n",
       "10  {'n_estimators': 381, 'learning_rate': 0.9, 'a...          1.000000   \n",
       "14  {'alpha': 0.001, 'fit_intercept': False, 'l1_r...          0.605970   \n",
       "5                                             Default          1.000000   \n",
       "2   {'warm_start': False, 'solver': 'liblinear', '...          0.564179   \n",
       "15                                            Default          0.647761   \n",
       "1                                             Default          0.653731   \n",
       "6   {'splitter': 'random', 'min_samples_split': 30...          0.653731   \n",
       "12  {'splitter': 'random', 'min_samples_split': 24...          0.573134   \n",
       "8   {'shrinking': True, 'gamma': 'auto', 'decision...          1.000000   \n",
       "7                                             Default          0.579104   \n",
       "4   {'weights': 'uniform', 'n_neighbors': 5, 'algo...          0.698507   \n",
       "3                                             Default          0.698507   \n",
       "11                                            Default          1.000000   \n",
       "\n",
       "    prediction score  \n",
       "22          0.666667  \n",
       "21          0.666667  \n",
       "23          0.624242  \n",
       "17          0.606061  \n",
       "19          0.600000  \n",
       "24          0.587879  \n",
       "18          0.575758  \n",
       "16          0.569697  \n",
       "13          0.557576  \n",
       "9           0.557576  \n",
       "20          0.545455  \n",
       "10          0.539394  \n",
       "14          0.539394  \n",
       "5           0.539394  \n",
       "2           0.527273  \n",
       "15          0.527273  \n",
       "1           0.527273  \n",
       "6           0.521212  \n",
       "12          0.509091  \n",
       "8           0.484848  \n",
       "7           0.484848  \n",
       "4           0.478788  \n",
       "3           0.478788  \n",
       "11          0.472727  "
      ]
     },
     "execution_count": 21,
     "metadata": {},
     "output_type": "execute_result"
    }
   ],
   "source": [
    "models.sort_values(\"prediction score\",ascending=False)"
   ]
  },
  {
   "cell_type": "code",
   "execution_count": null,
   "metadata": {},
   "outputs": [],
   "source": [
    "sns.set(rc={'figure.figsize':(70,10)})"
   ]
  },
  {
   "cell_type": "code",
   "execution_count": 23,
   "metadata": {},
   "outputs": [
    {
     "name": "stdout",
     "output_type": "stream",
     "text": [
      "Fig Saved\n"
     ]
    },
    {
     "data": {
      "image/png": "[encoded data removed]",
      "text/plain": [
       "<Figure size 5040x720 with 1 Axes>"
      ]
     },
     "metadata": {},
     "output_type": "display_data"
    }
   ],
   "source": [
    "ax = sns.stripplot(x = models.index, y=\"prediction score\",data=models, size=15)\n",
    "index = 0\n",
    "for i in models.values:\n",
    "    model_name = i[0]\n",
    "    model_score = i[3]\n",
    "    if model_score == models[\"prediction score\"].max():\n",
    "        text_color = \"red\"\n",
    "    else:\n",
    "        text_color = \"black\"\n",
    "    plt.text(index-0.3, model_score+0.005, model_name, horizontalalignment='left', size='small',color=text_color)\n",
    "    index +=1\n",
    "fig = ax.get_figure()\n",
    "fig.savefig(\"out.png\") \n",
    "print(\"Fig Saved\")"
   ]
  }
 ],
 "metadata": {
  "kernelspec": {
   "display_name": "Python 3.10.5 64-bit",
   "language": "python",
   "name": "python3"
  },
  "language_info": {
   "codemirror_mode": {
    "name": "ipython",
    "version": 3
   },
   "file_extension": ".py",
   "mimetype": "text/x-python",
   "name": "python",
   "nbconvert_exporter": "python",
   "pygments_lexer": "ipython3",
   "version": "3.10.5"
  },
  "orig_nbformat": 4,
  "vscode": {
   "interpreter": {
    "hash": "26de051ba29f2982a8de78e945f0abaf191376122a1563185a90213a26c5da77"
   }
  }
 },
 "nbformat": 4,
 "nbformat_minor": 2
}
