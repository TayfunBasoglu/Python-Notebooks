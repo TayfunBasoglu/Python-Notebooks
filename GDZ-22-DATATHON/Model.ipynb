{
 "cells": [
  {
   "cell_type": "markdown",
   "metadata": {},
   "source": [
    "# Kütüphaneler"
   ]
  },
  {
   "cell_type": "code",
   "execution_count": 20,
   "metadata": {},
   "outputs": [],
   "source": [
    "import pandas as pd\n",
    "import numpy as np\n",
    "import datetime as dt\n",
    "from sklearn.preprocessing import RobustScaler\n",
    "pd.set_option('display.max_columns', None)\n",
    "from unidecode import unidecode\n",
    "from catboost import CatBoostRegressor"
   ]
  },
  {
   "cell_type": "markdown",
   "metadata": {},
   "source": [
    "# Dosyalar"
   ]
  },
  {
   "cell_type": "code",
   "execution_count": 21,
   "metadata": {},
   "outputs": [],
   "source": [
    "train = pd.read_csv(\"train.csv\")\n",
    "hava = pd.read_csv(\"hava.csv\",sep=\";\")\n",
    "test = pd.read_csv(\"test.csv\")"
   ]
  },
  {
   "cell_type": "markdown",
   "metadata": {},
   "source": [
    "# Atılanlar"
   ]
  },
  {
   "cell_type": "code",
   "execution_count": 22,
   "metadata": {},
   "outputs": [],
   "source": [
    "test_submission_kolon = test[\"KESİNTİ_NO\"].copy()\n",
    "test.drop([\"BİLDİRİME_GÖRE\",\"KADEME\",\"KESİNTİ_NO\",\"OutageID\"],axis=1,inplace=True)\n",
    "train.drop([\"BİLDİRİME_GÖRE\",\"KADEME\",\"KESİNTİ_NO\",\"OutageID\",\"KOD_NO\"],axis=1,inplace=True)"
   ]
  },
  {
   "cell_type": "markdown",
   "metadata": {},
   "source": [
    "# Toplam arama sayısı 0 olan ayların atılması"
   ]
  },
  {
   "cell_type": "code",
   "execution_count": 23,
   "metadata": {},
   "outputs": [
    {
     "data": {
      "text/plain": [
       "BAŞLAMA_TARİHİ_VE_ZAMANI\n",
       "01.2022     83939.0\n",
       "02.2022     58037.0\n",
       "03.2022     35308.0\n",
       "04.2022         0.0\n",
       "05.2021     36563.0\n",
       "05.2022         0.0\n",
       "06.2021     81359.0\n",
       "06.2022        68.0\n",
       "07.2021    105386.0\n",
       "08.2021     90795.0\n",
       "09.2021     41087.0\n",
       "10.2021     68062.0\n",
       "11.2021     77213.0\n",
       "12.2021     82052.0\n",
       "Name: cagri_count, dtype: float64"
      ]
     },
     "execution_count": 23,
     "metadata": {},
     "output_type": "execute_result"
    }
   ],
   "source": [
    "train.groupby(train[\"BAŞLAMA_TARİHİ_VE_ZAMANI\"].astype(str).str[3:10])['cagri_count'].sum()"
   ]
  },
  {
   "cell_type": "markdown",
   "metadata": {},
   "source": [
    "**06.2022 tarihinde 68 arama olması biraz tuhaf. Bu yüzden bunu da atıyorum**"
   ]
  },
  {
   "cell_type": "code",
   "execution_count": 24,
   "metadata": {},
   "outputs": [
    {
     "data": {
      "text/plain": [
       "BAŞLAMA_TARİHİ_VE_ZAMANI\n",
       "01.2022     83939.0\n",
       "02.2022     58037.0\n",
       "03.2022     35308.0\n",
       "05.2021     36563.0\n",
       "06.2021     81359.0\n",
       "07.2021    105386.0\n",
       "08.2021     90795.0\n",
       "09.2021     41087.0\n",
       "10.2021     68062.0\n",
       "11.2021     77213.0\n",
       "12.2021     82052.0\n",
       "Name: cagri_count, dtype: float64"
      ]
     },
     "execution_count": 24,
     "metadata": {},
     "output_type": "execute_result"
    }
   ],
   "source": [
    "train = train[~train[\"BAŞLAMA_TARİHİ_VE_ZAMANI\"].astype(str).str[3:10].isin([\"05.2022\",\"04.2022\",\"06.2022\"])]\n",
    "train.groupby(train[\"BAŞLAMA_TARİHİ_VE_ZAMANI\"].astype(str).str[3:10])['cagri_count'].sum()"
   ]
  },
  {
   "cell_type": "markdown",
   "metadata": {},
   "source": [
    "# Kontrol"
   ]
  },
  {
   "cell_type": "markdown",
   "metadata": {},
   "source": [
    "Sıfırdan küçükler var mı"
   ]
  },
  {
   "cell_type": "code",
   "execution_count": 25,
   "metadata": {},
   "outputs": [
    {
     "name": "stdout",
     "output_type": "stream",
     "text": [
      "KESİNTİ_SÜRESİ 0.000277777 0.000555555\n",
      "KENTSEL_OG 0 0\n",
      "KENTSEL_AG 0 0\n",
      "KENTALTI_OG 0 0\n",
      "KENTALTI_AG 0 0\n",
      "KIRSAL_OG 0 0\n",
      "KIRSAL_AG 0 0\n",
      "TOPLAM_KENTSEL_OG 0.0 0.0\n",
      "TOPLAM_KENTSEL_AG 0.0 0.0\n",
      "TOPLAM_KENTALTI_OG 0.0 0.0\n",
      "TOPLAM_KENTALTI_AG 0.0 0.0\n",
      "TOPLAM_KIRSAL_OG 0.0 0.0\n",
      "TOPLAM_KIRSAL_AG 0.0 0.0\n"
     ]
    }
   ],
   "source": [
    "for i in test.select_dtypes(include=[\"int\",\"float\"]).columns:\n",
    "    print(i,train[i].min(),test[i].min())"
   ]
  },
  {
   "cell_type": "code",
   "execution_count": 26,
   "metadata": {},
   "outputs": [
    {
     "name": "stdout",
     "output_type": "stream",
     "text": [
      "İL 0 0\n",
      "İLÇE 0 0\n",
      "ŞEBEKE_UNSURU 0 0\n",
      "ŞEBEKE_UNSURU_KODU 0 0\n",
      "KESİNTİ_NEDENİNE_İLİŞKİN_AÇIKLAMA 0 0\n",
      "KAYNAĞA_GÖRE 0 0\n",
      "SÜREYE_GÖRE 0 0\n",
      "SEBEBE_GÖRE 0 0\n",
      "BAŞLAMA_TARİHİ_VE_ZAMANI 0 0\n",
      "SONA_ERME_TARİHİ_VE_ZAMANI 0 0\n",
      "KESİNTİ_SÜRESİ 0 0\n",
      "KENTSEL_OG 0 0\n",
      "KENTSEL_AG 0 0\n",
      "KENTALTI_OG 0 0\n",
      "KENTALTI_AG 0 0\n",
      "KIRSAL_OG 0 0\n",
      "KIRSAL_AG 0 0\n",
      "TOPLAM_KENTSEL_OG 0 0\n",
      "TOPLAM_KENTSEL_AG 0 0\n",
      "TOPLAM_KENTALTI_OG 0 0\n",
      "TOPLAM_KENTALTI_AG 0 0\n",
      "TOPLAM_KIRSAL_OG 0 0\n",
      "TOPLAM_KIRSAL_AG 0 0\n"
     ]
    }
   ],
   "source": [
    "for i in test.columns:\n",
    "    print(i,train[i].isna().sum(),test[i].isna().sum())"
   ]
  },
  {
   "cell_type": "markdown",
   "metadata": {},
   "source": [
    "# Gün Dönemi"
   ]
  },
  {
   "cell_type": "code",
   "execution_count": 27,
   "metadata": {},
   "outputs": [],
   "source": [
    "train.insert(11, 'Kesinti_Gun_Donemi', train[\"BAŞLAMA_TARİHİ_VE_ZAMANI\"].astype(str).str[11:13])\n",
    "train.loc[train[\"Kesinti_Gun_Donemi\"].isin([\"00\",\"01\",\"02\",\"03\",\"04\",\"05\"]),\"Kesinti_Gun_Donemi\"] = \"Gece\"\n",
    "train.loc[train[\"Kesinti_Gun_Donemi\"].isin([\"06\",\"07\",\"08\",\"09\",\"10\",\"11\"]),\"Kesinti_Gun_Donemi\"] = \"Sabah\"\n",
    "train.loc[train[\"Kesinti_Gun_Donemi\"].isin([\"12\",\"13\"]),\"Kesinti_Gun_Donemi\"] = \"Öğlen\"\n",
    "train.loc[train[\"Kesinti_Gun_Donemi\"].isin([\"14\",\"15\",\"16\"]),\"Kesinti_Gun_Donemi\"] = \"İkindi\"\n",
    "train.loc[train[\"Kesinti_Gun_Donemi\"].isin([\"17\",\"18\",\"19\"]),\"Kesinti_Gun_Donemi\"] = \"Akşamüstü\"\n",
    "train.loc[train[\"Kesinti_Gun_Donemi\"].isin([\"20\",\"21\",\"22\",\"23\"]),\"Kesinti_Gun_Donemi\"] = \"Akşam\"\n",
    "#---------------------------------------------------------------------------------------\n",
    "test.insert(11, 'Kesinti_Gun_Donemi', test[\"BAŞLAMA_TARİHİ_VE_ZAMANI\"].astype(str).str[11:13])\n",
    "test.loc[test[\"Kesinti_Gun_Donemi\"].isin([\"00\",\"01\",\"02\",\"03\",\"04\",\"05\"]),\"Kesinti_Gun_Donemi\"] = \"Gece\"\n",
    "test.loc[test[\"Kesinti_Gun_Donemi\"].isin([\"06\",\"07\",\"08\",\"09\",\"10\",\"11\"]),\"Kesinti_Gun_Donemi\"] = \"Sabah\"\n",
    "test.loc[test[\"Kesinti_Gun_Donemi\"].isin([\"12\",\"13\"]),\"Kesinti_Gun_Donemi\"] = \"Öğlen\"\n",
    "test.loc[test[\"Kesinti_Gun_Donemi\"].isin([\"14\",\"15\",\"16\"]),\"Kesinti_Gun_Donemi\"] = \"İkindi\"\n",
    "test.loc[test[\"Kesinti_Gun_Donemi\"].isin([\"17\",\"18\",\"19\"]),\"Kesinti_Gun_Donemi\"] = \"Akşamüstü\"\n",
    "test.loc[test[\"Kesinti_Gun_Donemi\"].isin([\"20\",\"21\",\"22\",\"23\"]),\"Kesinti_Gun_Donemi\"] = \"Akşam\""
   ]
  },
  {
   "cell_type": "markdown",
   "metadata": {},
   "source": [
    "# Tarih Kolonu"
   ]
  },
  {
   "cell_type": "code",
   "execution_count": 28,
   "metadata": {},
   "outputs": [],
   "source": [
    "train[\"BAŞLAMA_TARİHİ_VE_ZAMANI\"] = train[\"BAŞLAMA_TARİHİ_VE_ZAMANI\"].str[:10].apply(lambda x: dt.datetime.strptime(x,'%d.%m.%Y'))\n",
    "test[\"BAŞLAMA_TARİHİ_VE_ZAMANI\"] = test[\"BAŞLAMA_TARİHİ_VE_ZAMANI\"].str[:10].apply(lambda x: dt.datetime.strptime(x,'%d.%m.%Y'))\n",
    "hava[\"BAŞLAMA_TARİHİ_VE_ZAMANI\"] = hava[\"BAŞLAMA_TARİHİ_VE_ZAMANI\"].str[:10].apply(lambda x: dt.datetime.strptime(x,'%d.%m.%Y'))\n",
    "\n",
    "train[\"SONA_ERME_TARİHİ_VE_ZAMANI\"] = train[\"SONA_ERME_TARİHİ_VE_ZAMANI\"].str[:10].apply(lambda x: dt.datetime.strptime(x,'%d.%m.%Y'))\n",
    "test[\"SONA_ERME_TARİHİ_VE_ZAMANI\"] = test[\"SONA_ERME_TARİHİ_VE_ZAMANI\"].str[:10].apply(lambda x: dt.datetime.strptime(x,'%d.%m.%Y'))"
   ]
  },
  {
   "cell_type": "markdown",
   "metadata": {},
   "source": [
    "# Nüfus"
   ]
  },
  {
   "cell_type": "markdown",
   "metadata": {},
   "source": [
    "Uzun yoldan yapmıştım kolaylık için fikir -> https://www.kaggle.com/code/karakasatarik/get-population-data"
   ]
  },
  {
   "cell_type": "code",
   "execution_count": 29,
   "metadata": {},
   "outputs": [],
   "source": [
    "izmir_nufus = pd.read_html('https://www.nufusu.com/ilceleri/izmir-ilceleri-nufusu')[0][[\"İlçe\",\"Toplam Nüfus\"]]\n",
    "manisa_nufus = pd.read_html('https://www.nufusu.com/ilceleri/manisa-ilceleri-nufusu')[0][[\"İlçe\",\"Toplam Nüfus\"]]\n",
    "nufus = pd.concat([izmir_nufus,manisa_nufus])\n",
    "nufus[\"İlçe\"] = nufus[\"İlçe\"].apply(unidecode).str.lower()\n",
    "train[\"İLÇE\"] = train[\"İLÇE\"].apply(unidecode).str.lower()\n",
    "test[\"İLÇE\"] = test[\"İLÇE\"].apply(unidecode).str.lower()\n",
    "train = pd.merge(train,nufus,how=\"left\",left_on=\"İLÇE\",right_on=\"İlçe\")\n",
    "test = pd.merge(test,nufus,how=\"left\",left_on=\"İLÇE\",right_on=\"İlçe\")\n",
    "train[\"Toplam Nüfus\"] = train[\"Toplam Nüfus\"] * 1000\n",
    "train[\"Toplam Nüfus\"] = train[\"Toplam Nüfus\"].astype(\"int\")\n",
    "test[\"Toplam Nüfus\"] = test[\"Toplam Nüfus\"] * 1000\n",
    "test[\"Toplam Nüfus\"] = test[\"Toplam Nüfus\"].astype(\"int\")"
   ]
  },
  {
   "cell_type": "markdown",
   "metadata": {},
   "source": [
    "# Hava Durumu"
   ]
  },
  {
   "cell_type": "code",
   "execution_count": 30,
   "metadata": {},
   "outputs": [],
   "source": [
    "train = pd.merge(train,hava,how=\"left\",on=\"BAŞLAMA_TARİHİ_VE_ZAMANI\")\n",
    "test = pd.merge(test,hava,how=\"left\",on=\"BAŞLAMA_TARİHİ_VE_ZAMANI\")"
   ]
  },
  {
   "cell_type": "markdown",
   "metadata": {},
   "source": [
    "# Tarih Parçala"
   ]
  },
  {
   "cell_type": "code",
   "execution_count": 31,
   "metadata": {},
   "outputs": [],
   "source": [
    "train[\"BAŞLAMA_TARİHİ_VE_ZAMANI_AY\"] = train[\"BAŞLAMA_TARİHİ_VE_ZAMANI\"].dt.month.astype(\"str\")\n",
    "train[\"BAŞLAMA_TARİHİ_VE_ZAMANI_GUN\"] = train[\"BAŞLAMA_TARİHİ_VE_ZAMANI\"].dt.day.astype(\"str\")\n",
    "train[\"BAŞLAMA_TARİHİ_VE_ZAMANI_YIL\"] = train[\"BAŞLAMA_TARİHİ_VE_ZAMANI\"].dt.year.astype(\"str\")\n",
    "train['başlama_haftasi'] = train[\"BAŞLAMA_TARİHİ_VE_ZAMANI\"].dt.dayofweek.astype(\"str\")\n",
    "train['bitme_haftasi'] = train[\"SONA_ERME_TARİHİ_VE_ZAMANI\"].dt.dayofweek.astype(\"str\")\n",
    "##\n",
    "test[\"BAŞLAMA_TARİHİ_VE_ZAMANI_AY\"] = test[\"BAŞLAMA_TARİHİ_VE_ZAMANI\"].dt.month.astype(\"str\")\n",
    "test[\"BAŞLAMA_TARİHİ_VE_ZAMANI_GUN\"] = test[\"BAŞLAMA_TARİHİ_VE_ZAMANI\"].dt.day.astype(\"str\")\n",
    "test[\"BAŞLAMA_TARİHİ_VE_ZAMANI_YIL\"] = test[\"BAŞLAMA_TARİHİ_VE_ZAMANI\"].dt.year.astype(\"str\")\n",
    "test['başlama_haftasi'] = test[\"BAŞLAMA_TARİHİ_VE_ZAMANI\"].dt.dayofweek.astype(\"str\")\n",
    "test['bitme_haftasi'] = test[\"SONA_ERME_TARİHİ_VE_ZAMANI\"].dt.dayofweek.astype(\"str\")\n",
    "##\n",
    "train.drop([\"BAŞLAMA_TARİHİ_VE_ZAMANI\"],axis=1,inplace=True)\n",
    "test.drop([\"BAŞLAMA_TARİHİ_VE_ZAMANI\"],axis=1,inplace=True)\n",
    "train.drop([\"SONA_ERME_TARİHİ_VE_ZAMANI\"],axis=1,inplace=True)\n",
    "test.drop([\"SONA_ERME_TARİHİ_VE_ZAMANI\"],axis=1,inplace=True)"
   ]
  },
  {
   "cell_type": "markdown",
   "metadata": {},
   "source": [
    "# Mevsim"
   ]
  },
  {
   "cell_type": "code",
   "execution_count": 32,
   "metadata": {},
   "outputs": [],
   "source": [
    "train.loc[train[\"BAŞLAMA_TARİHİ_VE_ZAMANI_AY\"].isin([\"12\",\"1\",\"2\"]),\"mevsim\"] = \"Kış\"\n",
    "train.loc[train[\"BAŞLAMA_TARİHİ_VE_ZAMANI_AY\"].isin([\"3\",\"4\",\"5\"]),\"mevsim\"] = \"İlkbahar\"\n",
    "train.loc[train[\"BAŞLAMA_TARİHİ_VE_ZAMANI_AY\"].isin([\"6\",\"7\",\"8\"]),\"mevsim\"] = \"Yaz\"\n",
    "train.loc[train[\"BAŞLAMA_TARİHİ_VE_ZAMANI_AY\"].isin([\"9\",\"10\",\"11\"]),\"mevsim\"] = \"Sonbahar\"\n",
    "\n",
    "test.loc[test[\"BAŞLAMA_TARİHİ_VE_ZAMANI_AY\"].isin([\"12\",\"1\",\"2\"]),\"mevsim\"] = \"Kış\"\n",
    "test.loc[test[\"BAŞLAMA_TARİHİ_VE_ZAMANI_AY\"].isin([\"3\",\"4\",\"5\"]),\"mevsim\"] = \"İlkbahar\"\n",
    "test.loc[test[\"BAŞLAMA_TARİHİ_VE_ZAMANI_AY\"].isin([\"6\",\"7\",\"8\"]),\"mevsim\"] = \"Yaz\"\n",
    "test.loc[test[\"BAŞLAMA_TARİHİ_VE_ZAMANI_AY\"].isin([\"9\",\"10\",\"11\"]),\"mevsim\"] = \"Sonbahar\""
   ]
  },
  {
   "cell_type": "markdown",
   "metadata": {},
   "source": [
    "# Encoding"
   ]
  },
  {
   "cell_type": "code",
   "execution_count": 33,
   "metadata": {},
   "outputs": [],
   "source": [
    "for i in train.select_dtypes(include=[\"object\"]).columns:\n",
    "    unique_degerler = set(train[i].unique()).union(test[i].unique()) \n",
    "    sozluk = {k: v for v, k in enumerate(unique_degerler)}\n",
    "    train[i] = train[i].map(sozluk)\n",
    "    test[i] = test[i].map(sozluk)"
   ]
  },
  {
   "cell_type": "markdown",
   "metadata": {},
   "source": [
    "# Model Değişkenleri"
   ]
  },
  {
   "cell_type": "code",
   "execution_count": 34,
   "metadata": {},
   "outputs": [],
   "source": [
    "train_x = train.drop([\"cagri_count\"],axis=1)\n",
    "train_y = train[\"cagri_count\"]"
   ]
  },
  {
   "cell_type": "markdown",
   "metadata": {},
   "source": [
    "# RobustScaler"
   ]
  },
  {
   "cell_type": "code",
   "execution_count": 35,
   "metadata": {},
   "outputs": [],
   "source": [
    "scaler = RobustScaler().fit(train_x)\n",
    "train_x = scaler.transform(train_x)\n",
    "test = scaler.transform(test)"
   ]
  },
  {
   "cell_type": "markdown",
   "metadata": {},
   "source": [
    "# Model"
   ]
  },
  {
   "cell_type": "code",
   "execution_count": 36,
   "metadata": {},
   "outputs": [
    {
     "name": "stdout",
     "output_type": "stream",
     "text": [
      "0.7553370809039712\n"
     ]
    }
   ],
   "source": [
    "model = CatBoostRegressor(n_estimators=3307,max_depth= 3, max_bin= 66,learning_rate=0.059, random_state = 6, verbose=False) #3307\n",
    "model.fit(train_x, train_y)\n",
    "print(model.score(train_x, train_y))\n",
    "tahmin = model.predict(test)\n",
    "tahmin[tahmin < 0] = 0.0\n",
    "tahmin = tahmin.round(0).astype(\"float\")"
   ]
  },
  {
   "cell_type": "code",
   "execution_count": 38,
   "metadata": {},
   "outputs": [],
   "source": [
    "final = pd.concat([test_submission_kolon,pd.DataFrame(tahmin)],axis=1)\n",
    "final.columns = [\"KESİNTİ_NO\",\"cagri_count\"]\n",
    "final.to_csv(\"submission.csv\",index=False)"
   ]
  }
 ],
 "metadata": {
  "kernelspec": {
   "display_name": "Python 3.10.5 64-bit",
   "language": "python",
   "name": "python3"
  },
  "language_info": {
   "codemirror_mode": {
    "name": "ipython",
    "version": 3
   },
   "file_extension": ".py",
   "mimetype": "text/x-python",
   "name": "python",
   "nbconvert_exporter": "python",
   "pygments_lexer": "ipython3",
   "version": "3.10.5"
  },
  "orig_nbformat": 4,
  "vscode": {
   "interpreter": {
    "hash": "26de051ba29f2982a8de78e945f0abaf191376122a1563185a90213a26c5da77"
   }
  }
 },
 "nbformat": 4,
 "nbformat_minor": 2
}
